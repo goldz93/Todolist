{
 "cells": [
  {
   "cell_type": "code",
   "execution_count": 1,
   "id": "12452b69-72e7-419f-a1a1-5b2677675910",
   "metadata": {},
   "outputs": [
    {
     "name": "stdout",
     "output_type": "stream",
     "text": [
      "Menghitung bilangan fibonacci menggunakan fungsi rekursif\n"
     ]
    },
    {
     "name": "stdin",
     "output_type": "stream",
     "text": [
      "Masukkan sebuah bilangan  10\n"
     ]
    },
    {
     "name": "stdout",
     "output_type": "stream",
     "text": [
      "Bilangan fibonacci ke-10 adalah 55\n"
     ]
    }
   ],
   "source": [
    "def fibonacci(x):\n",
    "  if x<=2:\n",
    "    return 1\n",
    "  else:\n",
    "    fib = fibonacci(x-1)+fibonacci(x-2)\n",
    "  return fib\n",
    "\n",
    "print('Menghitung bilangan fibonacci menggunakan fungsi rekursif')\n",
    "angka = int(input('Masukkan sebuah bilangan '))\n",
    "fibonacci_bil = fibonacci(angka)\n",
    "print('Bilangan fibonacci ke-{} adalah {}'.format(angka,fibonacci_bil))"
   ]
  },
  {
   "cell_type": "code",
   "execution_count": null,
   "id": "76a7a392-caca-491c-b865-cb9b3e19bf93",
   "metadata": {},
   "outputs": [],
   "source": []
  }
 ],
 "metadata": {
  "kernelspec": {
   "display_name": "Python 3",
   "language": "python",
   "name": "python3"
  },
  "language_info": {
   "codemirror_mode": {
    "name": "ipython",
    "version": 3
   },
   "file_extension": ".py",
   "mimetype": "text/x-python",
   "name": "python",
   "nbconvert_exporter": "python",
   "pygments_lexer": "ipython3",
   "version": "3.8.8"
  }
 },
 "nbformat": 4,
 "nbformat_minor": 5
}
